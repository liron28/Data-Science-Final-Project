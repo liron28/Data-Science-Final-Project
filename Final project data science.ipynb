{
 "cells": [
  {
   "cell_type": "code",
   "execution_count": 2,
   "id": "6bf991d8",
   "metadata": {},
   "outputs": [],
   "source": [
    "#import necessary library\n",
    "import time     \n",
    "import os         \n",
    "import requests \n",
    "import bs4\n",
    "from bs4 import BeautifulSoup  \n",
    "import pandas as pd\n",
    "import scipy as sc\n",
    "import numpy as np\n",
    "import codecs\n",
    "import seaborn as sns\n",
    "from matplotlib import pyplot as plt\n",
    "from mpl_toolkits.mplot3d import Axes3D\n",
    "from matplotlib import cm\n",
    "import sklearn\n",
    "from sklearn import preprocessing, linear_model, model_selection\n",
    "from sklearn.preprocessing import StandardScaler, MinMaxScaler\n",
    "from sklearn.linear_model import LogisticRegression\n",
    "from sklearn.model_selection import train_test_split\n",
    "from scipy.stats import chi2_contingency\n"
   ]
  },
  {
   "cell_type": "code",
   "execution_count": null,
   "id": "b02622f3",
   "metadata": {},
   "outputs": [],
   "source": [
    "#starting crawling MAC website\n",
    "\n",
    "url=\"https://www.maccosmetics.co.il\"\n",
    "\n",
    "user_agent = {'User-agent': 'Mozilla/5.0'}\n",
    "response1 = requests.get(url,headers=user_agent)\n",
    "m=[]\n",
    "soup1 = BeautifulSoup(response1.content, \"html.parser\")\n",
    "for item in soup1.findAll(\"div\",attrs={\"class\":\"site-navigation__submenu-col\"}):\n",
    "    m.append(item.ul)\n",
    "    \n",
    "    \n",
    "del m[1]\n",
    "del m[2]\n",
    "del m[4]\n",
    "links=[]\n",
    "for a in m[0].find_all('a'):\n",
    "    links.append(a['href'])\n",
    "for a in m[1].find_all('a'):\n",
    "    links.append(a['href'])\n",
    "for a in m[2].find_all('a'):\n",
    "    links.append(a['href'])\n",
    "for a in m[3].find_all('a'):\n",
    "    links.append(a['href'])\n",
    "for a in m[4].find_all('a'):\n",
    "    links.append(a['href'])\n"
   ]
  },
  {
   "cell_type": "code",
   "execution_count": null,
   "id": "b27e7277",
   "metadata": {},
   "outputs": [],
   "source": [
    "#html proudct parsing\n",
    "url=\"https://www.maccosmetics.co.il\"\n",
    "linkstoprod=[]\n",
    "user_agent = {'User-agent': 'Mozilla/5.0'}\n",
    "for line in links:\n",
    "    response1 = requests.get(url+line,headers=user_agent)\n",
    "    soup1 = BeautifulSoup(response1.content, \"html.parser\")\n",
    "    mtag=soup1.findAll(\"a\",attrs={\"class\":\"product__image-medium-link js-product__link-to-spp js-product-image\"})\n",
    "    linksToPages=[t['href'] for t in mtag]\n",
    "    for h in linksToPages:\n",
    "        linkstoprod.append(h)\n",
    "    time.sleep(30)"
   ]
  },
  {
   "cell_type": "code",
   "execution_count": null,
   "id": "17393027",
   "metadata": {},
   "outputs": [],
   "source": [
    "#links saving\n",
    "textfile = open(\"a_file2.txt\", \"w\", encoding=\"utf-8\")\n",
    "for element in linkstoprod:\n",
    "    textfile.write(element + \"\\n\")\n",
    "textfile.close()"
   ]
  },
  {
   "cell_type": "code",
   "execution_count": null,
   "id": "befba376",
   "metadata": {},
   "outputs": [],
   "source": [
    "#check for duplicates\n",
    "a_set = set(linkstoprod)\n",
    "contains_duplicates = len(linkstoprod) != len(a_set)\n",
    "print(contains_duplicates)\n",
    "\n",
    "linkstoprod = list(dict.fromkeys(linkstoprod))\n",
    "for line in linkstoprod[1:2]:\n",
    "    print(line)\n",
    "    \n",
    "a_set = set(linkstoprod)\n",
    "contains_duplicates = len(linkstoprod) != len(a_set)\n",
    "print(contains_duplicates)\n",
    "\n"
   ]
  },
  {
   "cell_type": "code",
   "execution_count": null,
   "id": "d3b4706b",
   "metadata": {},
   "outputs": [],
   "source": [
    "#parsing individual product\n",
    "url13=\"https://www.maccosmetics.co.il\"\n",
    "price=[]\n",
    "ammount=[]\n",
    "title=[]\n",
    "web=[]\n",
    "product=[]\n",
    "replace_name={'פנים':'Face','עיניים':'Eye','שפתיים':'lipsticks','מברשות':'Brush'}\n",
    "shadefinal = []\n",
    "for line in linkstoprod:\n",
    "    shade=[]\n",
    "    response2 = requests.get(url13+line,headers=user_agent)\n",
    "    soup2 = BeautifulSoup(response2.content, \"html.parser\")\n",
    "    try :\n",
    "        tagprice=soup2.find(\"div\",attrs={\"class\":\"product-price-v1 js-product-price-v1\"})\n",
    "        price.append(tagprice.text.strip())\n",
    "        price.append(\"\\n\")\n",
    "    except :\n",
    "        price.append(\"None\")\n",
    "    try:\n",
    "        tagamount=soup2.find(\"div\",attrs={\"class\":\"product-full__size js-product-full-size\"})\n",
    "        ammount.append(tagamount.text.strip())\n",
    "        ammount.append(\"\\n\")\n",
    "    except :\n",
    "        ammount.append(\"None\")\n",
    "    try:\n",
    "        tagname=soup2.find(\"div\",attrs={\"class\":\"product-full__title\"})\n",
    "        title.append(tagname.text.strip())\n",
    "        title.append(\"\\n\")\n",
    "    except :\n",
    "        title.append(\"None\")\n",
    "    try:\n",
    "        tagshade=soup2.find(\"div\",attrs={\"class\":\"product-full__shades js-spp-shades product-full-shades-v1 js-product-full-shades\"})\n",
    "        shade.append(tagshade.text)\n",
    "        shadefin=shade[0].replace('\\n', ' ').replace('   ','  ').replace('  ',', ').replace(', ,',',').replace(' ','')\n",
    "        shade=shadefin.split(\",\")\n",
    "        for string in shade:\n",
    "            if (string != \"\"):\n",
    "                shadefinal.append(string)\n",
    "        shadefinal.append(\"\\n\")\n",
    "    except :\n",
    "        shadefinal.append(\"None\") \n",
    "    try :\n",
    "        web.append(\"MAC\")\n",
    "        web.append(\"\\n\")\n",
    "    except :\n",
    "        price.append(\"None\")\n",
    "    try :\n",
    "        tagproduct=soup2.find(\"a\",attrs={\"class\":\"site-navigation__link js-subMenu-link active\"})\n",
    "        product.append(tagprice.text)\n",
    "        product.append(\"\\n\")\n",
    "    except :\n",
    "        product.append(\"None\")\n",
    "    time.sleep(30)\n",
    "    \n",
    "product=product[0:4]\n",
    "replacement = (pd.Series(product)).map(replace_name) \n",
    "product = list(replacement)"
   ]
  },
  {
   "cell_type": "code",
   "execution_count": null,
   "id": "f405f99c",
   "metadata": {},
   "outputs": [],
   "source": [
    "#saving elements to file\n",
    "\n",
    "textfile = open(\"a_file_price.txt\", \"w\", encoding=\"utf-8\")\n",
    "for element in price:\n",
    "    textfile.write(element + \"\\n\")\n",
    "textfile.close()\n",
    "\n",
    "textfile = open(\"a_file_ammount.txt\", \"w\", encoding=\"utf-8\")\n",
    "for element in ammount:\n",
    "    textfile.write(element + \"\\n\")\n",
    "textfile.close()\n",
    "\n",
    "textfile = open(\"a_file_shade.txt\", \"w\", encoding=\"utf-8\")\n",
    "for element in shadefinal:\n",
    "    textfile.write(element + \"\\n\")\n",
    "textfile.close()\n",
    "\n",
    "textfile = open(\"a_file_title.txt\", \"w\", encoding=\"utf-8\")\n",
    "for element in title:\n",
    "    textfile.write(element + \"\\n\")\n",
    "textfile.close()\n",
    "\n",
    "textfile = open(\"a_file_pro.txt\", \"w\", encoding=\"utf-8\")\n",
    "for element in product:\n",
    "    textfile.write(element + \"\\n\")\n",
    "textfile.close()"
   ]
  },
  {
   "cell_type": "code",
   "execution_count": null,
   "id": "c6ad8f40",
   "metadata": {},
   "outputs": [],
   "source": [
    "#starting crawling bobbi brown website\n",
    "url1=\"https://www.bobbibrown.co.il\"\n",
    "linkstoprod=[]\n",
    "user_agent = {'User-agent': 'Mozilla/5.0'}\n",
    "response1 = requests.get(url1,headers=user_agent)\n",
    "soup1 = BeautifulSoup(response1.content, \"html.parser\")\n",
    "for item in soup1.findAll(\"div\",attrs={\"class\":\"gnav-section__link-wrapper js-link-wrapper js-analytics-lnk-wrap\"}):\n",
    "    for a_elm in item.find_all(\"a\"):\n",
    "        linkstoprod.append(a_elm.attrs[\"href\"])\n",
    "linksfinal=linkstoprod[2]"
   ]
  },
  {
   "cell_type": "code",
   "execution_count": null,
   "id": "4eb32bab",
   "metadata": {},
   "outputs": [],
   "source": [
    "#html proudct parsing\n",
    "url1=\"https://www.bobbibrown.co.il\"\n",
    "linkstoallprod=[]\n",
    "user_agent = {'User-agent': 'Mozilla/5.0'}\n",
    "response1 = requests.get(url1+linksfinal,headers=user_agent)\n",
    "soup1 = BeautifulSoup(response1.content, \"html.parser\")\n",
    "for item in soup1.findAll(\"div\",attrs={\"class\":\"product-brief__image-wrapper\"}):\n",
    "    for a_elm in item.find_all(\"a\"):\n",
    "        linkstoallprod.append(a_elm.attrs[\"href\"])"
   ]
  },
  {
   "cell_type": "code",
   "execution_count": null,
   "id": "7c8b9880",
   "metadata": {},
   "outputs": [],
   "source": [
    "#remove duplicates\n",
    "a_set = set(linkstoallprod)\n",
    "contains_duplicates = len(linkstoallprod) != len(a_set)\n",
    "print(contains_duplicates)\n",
    "\n",
    "linkstoallprod = list(dict.fromkeys(linkstoallprod))\n",
    "\n"
   ]
  },
  {
   "cell_type": "code",
   "execution_count": null,
   "id": "8c1c1640",
   "metadata": {},
   "outputs": [],
   "source": [
    "#cheking product by color\n",
    "url13=\"https://www.bobbibrown.co.il/product/2321/79631/luxe-defining-lipstick#/shade/Avant_Gardenia\"\n",
    "response2 = requests.get(url13,headers=user_agent)\n",
    "soup2 = BeautifulSoup(response2.content, \"html.parser\")\n",
    "color=[]\n",
    "for col in soup2.find_all(\"div\",attrs={\"class\":\"product-full-shades__shade-swatch\"}):\n",
    "    color.append(col.get('style'))    "
   ]
  },
  {
   "cell_type": "code",
   "execution_count": null,
   "id": "f5e85c16",
   "metadata": {},
   "outputs": [],
   "source": [
    "#parsing individual product\n",
    "url1=\"https://www.bobbibrown.co.il\"\n",
    "price=[]\n",
    "ammount=[]\n",
    "title=[]\n",
    "shadefinal = []\n",
    "web=[]\n",
    "product=[]\n",
    "replace_name2={'פנים':'Face','עיניים':'Eye','שפתיים':'lipsticks'}\n",
    "for line in linkstoallprod:\n",
    "    shade=[]\n",
    "    response2 = requests.get(url13+line,headers=user_agent)\n",
    "    soup2 = BeautifulSoup(response2.content, \"html.parser\")\n",
    "    try :\n",
    "        tagprice=soup2.find(\"span\",attrs={\"class\":\"price js-sku-price new_price js-new_price\"})\n",
    "        price.append(tagprice.text.strip())\n",
    "        price.append(\"\\n\")\n",
    "    except :\n",
    "        price.append(\"None\")\n",
    "    try:\n",
    "        tagamount=soup2.find(\"div\",attrs={\"class\":\"product-full__size\"})\n",
    "        ammount.append(tagamount.text.strip())\n",
    "        ammount.append(\"\\n\")\n",
    "    except :\n",
    "        ammount.append(\"None\")\n",
    "    try:\n",
    "        tagname=soup2.find(\"h1\",attrs={\"class\":\"product-full__title\"})\n",
    "        title.append(tagname.text.strip())\n",
    "        title.append(\"\\n\")\n",
    "    except :\n",
    "        title.append(\"None\")\n",
    "    try:\n",
    "        web.append('Bobbi Brown')\n",
    "        web.append(\"\\n\")\n",
    "    except :\n",
    "        web.append(\"None\")\n",
    "    try:\n",
    "        tagpro=soup2.find(\"span\",attrs={\"class\":\"gnav-section__link-wrapper__inner js-analytics-gnav-sec-link-wrap\"})\n",
    "        product.append(tagpro.text)\n",
    "        product.append(\"\\n\")\n",
    "    except :\n",
    "        product.append(\"None\")    \n",
    "    try:\n",
    "        for col in soup2.find_all(\"div\",attrs={\"class\":\"product-full-shades__shade-swatch\"}):\n",
    "            shadefinal.append(col.get('style'))\n",
    "        shadefinal.append(\"\\n\")\n",
    "    except :\n",
    "        shadefinal.append(\"None\")      \n",
    "    time.sleep(30)\n",
    "linkstoprod=linkstoprod[0:3]\n",
    "replacement2 = (pd.Series(product)).map(replace_name) \n",
    "product = list(replacement2)"
   ]
  },
  {
   "cell_type": "code",
   "execution_count": null,
   "id": "61bc3e3b",
   "metadata": {},
   "outputs": [],
   "source": [
    "#saving elements to file\n",
    "for element in title:\n",
    "    textfile.write(element + \"\\n\")\n",
    "textfile.close()\n",
    "textfile = open(\"a_file_shadebobi.txt\", \"w\", encoding=\"utf-8\")\n",
    "for element in shadefinal:\n",
    "    textfile.write(element + \"\\n\")\n",
    "textfile.close()\n",
    "textfile = open(\"a_file_ammountbobi.txt\", \"w\", encoding=\"utf-8\")\n",
    "for element in ammount:\n",
    "    textfile.write(element + \"\\n\")\n",
    "textfile.close()\n",
    "textfile = open(\"a_file_pricebobi.txt\", \"w\", encoding=\"utf-8\")\n",
    "for element in price:\n",
    "    textfile.write(element + \"\\n\")\n",
    "textfile.close()\n",
    "textfile = open(\"a_file_prodbobi.txt\", \"w\", encoding=\"utf-8\")\n",
    "for element in product:\n",
    "    textfile.write(element + \"\\n\")\n",
    "textfile.close()"
   ]
  },
  {
   "cell_type": "code",
   "execution_count": null,
   "id": "9e5ba459",
   "metadata": {},
   "outputs": [],
   "source": [
    "#delete all new lines \n",
    "title1=[]\n",
    "for row in title:\n",
    "    if row !='\\n':\n",
    "        title1.append(row)\n",
    "    else: pass\n",
    "    \n",
    "price1=[]\n",
    "for row in price:\n",
    "    if row !='\\n':\n",
    "        price1.append(row)\n",
    "    else: pass \n",
    "\n",
    "ammount1=[]\n",
    "for row in ammount:\n",
    "    if row !='\\n':\n",
    "        ammount1.append(row)\n",
    "    else: pass\n",
    "    \n",
    "web1=[]\n",
    "for row in ammount:\n",
    "    if row !='\\n':\n",
    "        web1.append(row)\n",
    "    else: pass     \n",
    "    \n",
    "product1=[]\n",
    "for row in product1:\n",
    "    if row !='\\n':\n",
    "        product1.append(row)\n",
    "    else: pass     "
   ]
  },
  {
   "cell_type": "code",
   "execution_count": null,
   "id": "d54a663b",
   "metadata": {},
   "outputs": [],
   "source": [
    "#creating data for dataframe mac\n",
    "data = {'title':  title1 , 'price': price1, 'ammount' : ammount1, 'web':web1 ,'product':product1} "
   ]
  },
  {
   "cell_type": "code",
   "execution_count": null,
   "id": "3ceb3955",
   "metadata": {},
   "outputs": [],
   "source": [
    "#opening parsed file for bobbi brown\n",
    "amm = codecs.open(\"a_file_ammountbobi.txt\", \"r\", \"utf-8\")\n",
    "pri = codecs.open(\"a_file_pricebobi.txt\", \"r\", \"utf-8\")\n",
    "titl = codecs.open(\"a_file_titlebobi.txt\", \"r\", \"utf-8\")\n",
    "prod = codecs.open(\"a_file_prodbobi.txt\", \"r\", \"utf-8\")"
   ]
  },
  {
   "cell_type": "code",
   "execution_count": null,
   "id": "72159d49",
   "metadata": {},
   "outputs": [],
   "source": [
    "#moving data for file list\n",
    "ammbob=[]\n",
    "for x in amm:\n",
    "    ammbob.append(x)\n",
    "pribob=[]\n",
    "for x in pri:\n",
    "    pribob.append(x)\n",
    "titlbob=[]\n",
    "for x in titl:\n",
    "    titlbob.append(x)\n",
    "prodbob=[]\n",
    "for x in prod:\n",
    "    prodbob.append(x)    "
   ]
  },
  {
   "cell_type": "code",
   "execution_count": null,
   "id": "0191e2ec",
   "metadata": {},
   "outputs": [],
   "source": [
    "#creating data for dataframe- bobbi brown\n",
    "data2 = {'title':  titlbob , 'price': pribob, 'ammount' : ammbob,'web':web,'product':prodbob} "
   ]
  },
  {
   "cell_type": "code",
   "execution_count": null,
   "id": "e2aebf01",
   "metadata": {},
   "outputs": [],
   "source": [
    "#creating dataframe\n",
    "df = pd.DataFrame(data)\n",
    "df2 = pd.DataFrame(data2)"
   ]
  },
  {
   "cell_type": "code",
   "execution_count": null,
   "id": "6329e566",
   "metadata": {},
   "outputs": [],
   "source": [
    "#combining the dataframe\n",
    "dffin=df.append(df2, ignore_index = True)"
   ]
  },
  {
   "cell_type": "code",
   "execution_count": null,
   "id": "60d3a6de",
   "metadata": {},
   "outputs": [],
   "source": [
    "#saving the dataframe to file\n",
    "dffin.to_csv('ALLDATA1.csv', encoding='utf-8')"
   ]
  },
  {
   "cell_type": "code",
   "execution_count": 3,
   "id": "6b76600d",
   "metadata": {},
   "outputs": [],
   "source": [
    "df = pd.read_csv('ALLDATA1.csv')"
   ]
  },
  {
   "cell_type": "code",
   "execution_count": null,
   "id": "3f9e4327",
   "metadata": {},
   "outputs": [],
   "source": [
    "#to see all the dataframe\n",
    "pd.set_option(\"display.max_rows\", None, \"display.max_columns\", None)"
   ]
  },
  {
   "cell_type": "code",
   "execution_count": 36,
   "id": "da509250",
   "metadata": {},
   "outputs": [
    {
     "data": {
      "text/plain": [
       "Text(0, 0.5, 'frequency')"
      ]
     },
     "execution_count": 36,
     "metadata": {},
     "output_type": "execute_result"
    },
    {
     "data": {
      "image/png": "[encoded data removed]",
      "text/plain": [
       "<Figure size 864x288 with 1 Axes>"
      ]
     },
     "metadata": {
      "needs_background": "light"
     },
     "output_type": "display_data"
    }
   ],
   "source": [
    "#visual data\n",
    "fig=plt.figure(figsize=(12,4))\n",
    "\n",
    "fig1=fig.add_subplot(1,2,1)\n",
    "\n",
    "fig1.hist(df.price,bins=20)\n",
    "fig1.set_title('price histogram')\n",
    "fig1.set_xlabel('price')\n",
    "fig1.set_ylabel('frequency')\n"
   ]
  },
  {
   "cell_type": "code",
   "execution_count": 7,
   "id": "de40e840",
   "metadata": {},
   "outputs": [
    {
     "data": {
      "text/html": [
       "<div>\n",
       "<style scoped>\n",
       "    .dataframe tbody tr th:only-of-type {\n",
       "        vertical-align: middle;\n",
       "    }\n",
       "\n",
       "    .dataframe tbody tr th {\n",
       "        vertical-align: top;\n",
       "    }\n",
       "\n",
       "    .dataframe thead th {\n",
       "        text-align: right;\n",
       "    }\n",
       "</style>\n",
       "<table border=\"1\" class=\"dataframe\">\n",
       "  <thead>\n",
       "    <tr style=\"text-align: right;\">\n",
       "      <th>ammount</th>\n",
       "      <th>0.00</th>\n",
       "      <th>0.09</th>\n",
       "      <th>0.33</th>\n",
       "      <th>0.35</th>\n",
       "      <th>0.50</th>\n",
       "      <th>0.70</th>\n",
       "      <th>0.90</th>\n",
       "      <th>0.95</th>\n",
       "      <th>1.00</th>\n",
       "      <th>1.15</th>\n",
       "      <th>...</th>\n",
       "      <th>38.00</th>\n",
       "      <th>40.00</th>\n",
       "      <th>50.00</th>\n",
       "      <th>80.00</th>\n",
       "      <th>90.25</th>\n",
       "      <th>95.00</th>\n",
       "      <th>98.00</th>\n",
       "      <th>100.00</th>\n",
       "      <th>120.00</th>\n",
       "      <th>150.00</th>\n",
       "    </tr>\n",
       "    <tr>\n",
       "      <th>price</th>\n",
       "      <th></th>\n",
       "      <th></th>\n",
       "      <th></th>\n",
       "      <th></th>\n",
       "      <th></th>\n",
       "      <th></th>\n",
       "      <th></th>\n",
       "      <th></th>\n",
       "      <th></th>\n",
       "      <th></th>\n",
       "      <th></th>\n",
       "      <th></th>\n",
       "      <th></th>\n",
       "      <th></th>\n",
       "      <th></th>\n",
       "      <th></th>\n",
       "      <th></th>\n",
       "      <th></th>\n",
       "      <th></th>\n",
       "      <th></th>\n",
       "      <th></th>\n",
       "    </tr>\n",
       "  </thead>\n",
       "  <tbody>\n",
       "    <tr>\n",
       "      <th>25</th>\n",
       "      <td>0</td>\n",
       "      <td>0</td>\n",
       "      <td>0</td>\n",
       "      <td>0</td>\n",
       "      <td>0</td>\n",
       "      <td>0</td>\n",
       "      <td>0</td>\n",
       "      <td>0</td>\n",
       "      <td>0</td>\n",
       "      <td>0</td>\n",
       "      <td>...</td>\n",
       "      <td>0</td>\n",
       "      <td>0</td>\n",
       "      <td>0</td>\n",
       "      <td>0</td>\n",
       "      <td>0</td>\n",
       "      <td>0</td>\n",
       "      <td>0</td>\n",
       "      <td>0</td>\n",
       "      <td>0</td>\n",
       "      <td>0</td>\n",
       "    </tr>\n",
       "    <tr>\n",
       "      <th>29</th>\n",
       "      <td>0</td>\n",
       "      <td>0</td>\n",
       "      <td>0</td>\n",
       "      <td>0</td>\n",
       "      <td>0</td>\n",
       "      <td>0</td>\n",
       "      <td>0</td>\n",
       "      <td>0</td>\n",
       "      <td>0</td>\n",
       "      <td>0</td>\n",
       "      <td>...</td>\n",
       "      <td>0</td>\n",
       "      <td>0</td>\n",
       "      <td>0</td>\n",
       "      <td>0</td>\n",
       "      <td>0</td>\n",
       "      <td>0</td>\n",
       "      <td>0</td>\n",
       "      <td>0</td>\n",
       "      <td>0</td>\n",
       "      <td>0</td>\n",
       "    </tr>\n",
       "    <tr>\n",
       "      <th>50</th>\n",
       "      <td>0</td>\n",
       "      <td>0</td>\n",
       "      <td>0</td>\n",
       "      <td>0</td>\n",
       "      <td>1</td>\n",
       "      <td>0</td>\n",
       "      <td>0</td>\n",
       "      <td>0</td>\n",
       "      <td>0</td>\n",
       "      <td>0</td>\n",
       "      <td>...</td>\n",
       "      <td>0</td>\n",
       "      <td>0</td>\n",
       "      <td>0</td>\n",
       "      <td>0</td>\n",
       "      <td>0</td>\n",
       "      <td>0</td>\n",
       "      <td>0</td>\n",
       "      <td>0</td>\n",
       "      <td>0</td>\n",
       "      <td>0</td>\n",
       "    </tr>\n",
       "    <tr>\n",
       "      <th>70</th>\n",
       "      <td>0</td>\n",
       "      <td>0</td>\n",
       "      <td>0</td>\n",
       "      <td>0</td>\n",
       "      <td>0</td>\n",
       "      <td>0</td>\n",
       "      <td>0</td>\n",
       "      <td>0</td>\n",
       "      <td>0</td>\n",
       "      <td>0</td>\n",
       "      <td>...</td>\n",
       "      <td>0</td>\n",
       "      <td>0</td>\n",
       "      <td>0</td>\n",
       "      <td>0</td>\n",
       "      <td>0</td>\n",
       "      <td>0</td>\n",
       "      <td>0</td>\n",
       "      <td>0</td>\n",
       "      <td>0</td>\n",
       "      <td>0</td>\n",
       "    </tr>\n",
       "    <tr>\n",
       "      <th>71</th>\n",
       "      <td>0</td>\n",
       "      <td>0</td>\n",
       "      <td>0</td>\n",
       "      <td>0</td>\n",
       "      <td>0</td>\n",
       "      <td>0</td>\n",
       "      <td>0</td>\n",
       "      <td>0</td>\n",
       "      <td>0</td>\n",
       "      <td>0</td>\n",
       "      <td>...</td>\n",
       "      <td>0</td>\n",
       "      <td>0</td>\n",
       "      <td>0</td>\n",
       "      <td>0</td>\n",
       "      <td>0</td>\n",
       "      <td>0</td>\n",
       "      <td>0</td>\n",
       "      <td>0</td>\n",
       "      <td>0</td>\n",
       "      <td>0</td>\n",
       "    </tr>\n",
       "    <tr>\n",
       "      <th>...</th>\n",
       "      <td>...</td>\n",
       "      <td>...</td>\n",
       "      <td>...</td>\n",
       "      <td>...</td>\n",
       "      <td>...</td>\n",
       "      <td>...</td>\n",
       "      <td>...</td>\n",
       "      <td>...</td>\n",
       "      <td>...</td>\n",
       "      <td>...</td>\n",
       "      <td>...</td>\n",
       "      <td>...</td>\n",
       "      <td>...</td>\n",
       "      <td>...</td>\n",
       "      <td>...</td>\n",
       "      <td>...</td>\n",
       "      <td>...</td>\n",
       "      <td>...</td>\n",
       "      <td>...</td>\n",
       "      <td>...</td>\n",
       "      <td>...</td>\n",
       "    </tr>\n",
       "    <tr>\n",
       "      <th>313</th>\n",
       "      <td>0</td>\n",
       "      <td>0</td>\n",
       "      <td>0</td>\n",
       "      <td>0</td>\n",
       "      <td>0</td>\n",
       "      <td>0</td>\n",
       "      <td>0</td>\n",
       "      <td>0</td>\n",
       "      <td>0</td>\n",
       "      <td>0</td>\n",
       "      <td>...</td>\n",
       "      <td>0</td>\n",
       "      <td>0</td>\n",
       "      <td>0</td>\n",
       "      <td>0</td>\n",
       "      <td>0</td>\n",
       "      <td>0</td>\n",
       "      <td>0</td>\n",
       "      <td>0</td>\n",
       "      <td>0</td>\n",
       "      <td>0</td>\n",
       "    </tr>\n",
       "    <tr>\n",
       "      <th>349</th>\n",
       "      <td>0</td>\n",
       "      <td>0</td>\n",
       "      <td>0</td>\n",
       "      <td>0</td>\n",
       "      <td>0</td>\n",
       "      <td>0</td>\n",
       "      <td>0</td>\n",
       "      <td>0</td>\n",
       "      <td>0</td>\n",
       "      <td>0</td>\n",
       "      <td>...</td>\n",
       "      <td>0</td>\n",
       "      <td>0</td>\n",
       "      <td>0</td>\n",
       "      <td>0</td>\n",
       "      <td>0</td>\n",
       "      <td>0</td>\n",
       "      <td>0</td>\n",
       "      <td>1</td>\n",
       "      <td>0</td>\n",
       "      <td>0</td>\n",
       "    </tr>\n",
       "    <tr>\n",
       "      <th>369</th>\n",
       "      <td>0</td>\n",
       "      <td>0</td>\n",
       "      <td>0</td>\n",
       "      <td>0</td>\n",
       "      <td>0</td>\n",
       "      <td>0</td>\n",
       "      <td>0</td>\n",
       "      <td>0</td>\n",
       "      <td>0</td>\n",
       "      <td>0</td>\n",
       "      <td>...</td>\n",
       "      <td>0</td>\n",
       "      <td>0</td>\n",
       "      <td>0</td>\n",
       "      <td>0</td>\n",
       "      <td>0</td>\n",
       "      <td>0</td>\n",
       "      <td>0</td>\n",
       "      <td>0</td>\n",
       "      <td>0</td>\n",
       "      <td>0</td>\n",
       "    </tr>\n",
       "    <tr>\n",
       "      <th>370</th>\n",
       "      <td>0</td>\n",
       "      <td>0</td>\n",
       "      <td>0</td>\n",
       "      <td>0</td>\n",
       "      <td>0</td>\n",
       "      <td>0</td>\n",
       "      <td>0</td>\n",
       "      <td>0</td>\n",
       "      <td>0</td>\n",
       "      <td>0</td>\n",
       "      <td>...</td>\n",
       "      <td>0</td>\n",
       "      <td>0</td>\n",
       "      <td>0</td>\n",
       "      <td>0</td>\n",
       "      <td>0</td>\n",
       "      <td>0</td>\n",
       "      <td>0</td>\n",
       "      <td>0</td>\n",
       "      <td>0</td>\n",
       "      <td>0</td>\n",
       "    </tr>\n",
       "    <tr>\n",
       "      <th>449</th>\n",
       "      <td>0</td>\n",
       "      <td>0</td>\n",
       "      <td>0</td>\n",
       "      <td>0</td>\n",
       "      <td>0</td>\n",
       "      <td>0</td>\n",
       "      <td>0</td>\n",
       "      <td>0</td>\n",
       "      <td>0</td>\n",
       "      <td>0</td>\n",
       "      <td>...</td>\n",
       "      <td>2</td>\n",
       "      <td>0</td>\n",
       "      <td>0</td>\n",
       "      <td>0</td>\n",
       "      <td>0</td>\n",
       "      <td>0</td>\n",
       "      <td>0</td>\n",
       "      <td>0</td>\n",
       "      <td>0</td>\n",
       "      <td>0</td>\n",
       "    </tr>\n",
       "  </tbody>\n",
       "</table>\n",
       "<p>103 rows × 97 columns</p>\n",
       "</div>"
      ],
      "text/plain": [
       "ammount  0.00    0.09    0.33    0.35    0.50    0.70    0.90    0.95    \\\n",
       "price                                                                     \n",
       "25            0       0       0       0       0       0       0       0   \n",
       "29            0       0       0       0       0       0       0       0   \n",
       "50            0       0       0       0       1       0       0       0   \n",
       "70            0       0       0       0       0       0       0       0   \n",
       "71            0       0       0       0       0       0       0       0   \n",
       "...         ...     ...     ...     ...     ...     ...     ...     ...   \n",
       "313           0       0       0       0       0       0       0       0   \n",
       "349           0       0       0       0       0       0       0       0   \n",
       "369           0       0       0       0       0       0       0       0   \n",
       "370           0       0       0       0       0       0       0       0   \n",
       "449           0       0       0       0       0       0       0       0   \n",
       "\n",
       "ammount  1.00    1.15    ...  38.00   40.00   50.00   80.00   90.25   95.00   \\\n",
       "price                    ...                                                   \n",
       "25            0       0  ...       0       0       0       0       0       0   \n",
       "29            0       0  ...       0       0       0       0       0       0   \n",
       "50            0       0  ...       0       0       0       0       0       0   \n",
       "70            0       0  ...       0       0       0       0       0       0   \n",
       "71            0       0  ...       0       0       0       0       0       0   \n",
       "...         ...     ...  ...     ...     ...     ...     ...     ...     ...   \n",
       "313           0       0  ...       0       0       0       0       0       0   \n",
       "349           0       0  ...       0       0       0       0       0       0   \n",
       "369           0       0  ...       0       0       0       0       0       0   \n",
       "370           0       0  ...       0       0       0       0       0       0   \n",
       "449           0       0  ...       2       0       0       0       0       0   \n",
       "\n",
       "ammount  98.00   100.00  120.00  150.00  \n",
       "price                                    \n",
       "25            0       0       0       0  \n",
       "29            0       0       0       0  \n",
       "50            0       0       0       0  \n",
       "70            0       0       0       0  \n",
       "71            0       0       0       0  \n",
       "...         ...     ...     ...     ...  \n",
       "313           0       0       0       0  \n",
       "349           0       1       0       0  \n",
       "369           0       0       0       0  \n",
       "370           0       0       0       0  \n",
       "449           0       0       0       0  \n",
       "\n",
       "[103 rows x 97 columns]"
      ]
     },
     "execution_count": 7,
     "metadata": {},
     "output_type": "execute_result"
    }
   ],
   "source": [
    "ct1=pd.crosstab(df['price'],df['ammount'])\n",
    "ct1"
   ]
  },
  {
   "cell_type": "code",
   "execution_count": 8,
   "id": "bab98c11",
   "metadata": {},
   "outputs": [
    {
     "data": {
      "text/plain": [
       "(13686.063461752583,\n",
       " 3.0472845389034016e-136,\n",
       " 9792,\n",
       " array([[0.06772908, 0.00398406, 0.00398406, ..., 0.07171315, 0.00796813,\n",
       "         0.01195219],\n",
       "        [0.10159363, 0.0059761 , 0.0059761 , ..., 0.10756972, 0.01195219,\n",
       "         0.01792829],\n",
       "        [0.37250996, 0.02191235, 0.02191235, ..., 0.39442231, 0.0438247 ,\n",
       "         0.06573705],\n",
       "        ...,\n",
       "        [0.13545817, 0.00796813, 0.00796813, ..., 0.14342629, 0.01593625,\n",
       "         0.02390438],\n",
       "        [0.03386454, 0.00199203, 0.00199203, ..., 0.03585657, 0.00398406,\n",
       "         0.0059761 ],\n",
       "        [0.06772908, 0.00398406, 0.00398406, ..., 0.07171315, 0.00796813,\n",
       "         0.01195219]]))"
      ]
     },
     "execution_count": 8,
     "metadata": {},
     "output_type": "execute_result"
    }
   ],
   "source": [
    "#visual stats\n",
    "chi2_contingency(ct1)"
   ]
  },
  {
   "cell_type": "code",
   "execution_count": 10,
   "id": "95a329c8",
   "metadata": {},
   "outputs": [
    {
     "data": {
      "text/plain": [
       "<AxesSubplot:xlabel='price', ylabel='ammount'>"
      ]
     },
     "execution_count": 10,
     "metadata": {},
     "output_type": "execute_result"
    },
    {
     "data": {
      "image/png": "[encoded data removed]",
      "text/plain": [
       "<Figure size 432x288 with 1 Axes>"
      ]
     },
     "metadata": {
      "needs_background": "light"
     },
     "output_type": "display_data"
    }
   ],
   "source": [
    "#visual data\n",
    "sns.scatterplot(x='price',y='ammount',s=19,hue= 'product',data= df)"
   ]
  },
  {
   "cell_type": "code",
   "execution_count": 11,
   "id": "cb665bbc",
   "metadata": {},
   "outputs": [
    {
     "data": {
      "text/plain": [
       "<seaborn.axisgrid.PairGrid at 0x1ed319c2b80>"
      ]
     },
     "execution_count": 11,
     "metadata": {},
     "output_type": "execute_result"
    },
    {
     "data": {
      "image/png": "[encoded data removed]",
      "text/plain": [
       "<Figure size 360x360 with 6 Axes>"
      ]
     },
     "metadata": {
      "needs_background": "light"
     },
     "output_type": "display_data"
    }
   ],
   "source": [
    "sns.pairplot(df[['ammount','price','web','product']])"
   ]
  },
  {
   "cell_type": "code",
   "execution_count": 12,
   "id": "9aec1f94",
   "metadata": {},
   "outputs": [],
   "source": [
    "#convert categorical variable for start the prediction\n",
    "replace_name={'MAC':1,'Bobbi Brown':2,'Face':0,'Brush':1,'Eye':2,'lipsticks':3}\n",
    "df_copy=df[[\"web\",\"product\",\"ammount\",\"price\"]].copy()\n",
    "df_copy.replace(replace_name,inplace=True)"
   ]
  },
  {
   "cell_type": "code",
   "execution_count": 13,
   "id": "65cf4acb",
   "metadata": {},
   "outputs": [],
   "source": [
    "#creating a matrix X that will contain the only the features, and a vector y with all the labels\n",
    "TRAINING_FEATURES = df_copy.columns[df_copy.columns != 'price']\n",
    "TARGET_FEATURE    = 'price'\n",
    "\n",
    "X = df_copy[TRAINING_FEATURES]\n",
    "y = df_copy[TARGET_FEATURE]"
   ]
  },
  {
   "cell_type": "code",
   "execution_count": 14,
   "id": "84bc211d",
   "metadata": {},
   "outputs": [
    {
     "name": "stdout",
     "output_type": "stream",
     "text": [
      "Initial amount of samples: #502\n",
      "Number of training samples: #401\n",
      "Number of test samples: #101\n",
      "\n",
      "Target distribution in original dataset:\n",
      "93     30\n",
      "249    17\n",
      "119    17\n",
      "125    17\n",
      "115    13\n",
      "       ..\n",
      "221     1\n",
      "188     1\n",
      "190     1\n",
      "215     1\n",
      "111     1\n",
      "Name: price, Length: 103, dtype: int64\n",
      "\n",
      "Target distribution in the training set:\n",
      "93     22\n",
      "125    16\n",
      "249    14\n",
      "119    14\n",
      "116     9\n",
      "       ..\n",
      "221     1\n",
      "137     1\n",
      "219     1\n",
      "215     1\n",
      "111     1\n",
      "Name: price, Length: 98, dtype: int64\n",
      "\n",
      "Target distribution in the test set:\n",
      "93     8\n",
      "50     5\n",
      "115    4\n",
      "150    4\n",
      "192    4\n",
      "135    3\n",
      "249    3\n",
      "156    3\n",
      "119    3\n",
      "235    3\n",
      "166    3\n",
      "170    3\n",
      "313    2\n",
      "189    2\n",
      "185    2\n",
      "106    2\n",
      "180    2\n",
      "149    2\n",
      "105    2\n",
      "110    2\n",
      "116    2\n",
      "169    2\n",
      "227    1\n",
      "101    1\n",
      "108    1\n",
      "100    1\n",
      "370    1\n",
      "239    1\n",
      "349    1\n",
      "369    1\n",
      "225    1\n",
      "117    1\n",
      "219    1\n",
      "250    1\n",
      "130    1\n",
      "198    1\n",
      "92     1\n",
      "179    1\n",
      "137    1\n",
      "147    1\n",
      "280    1\n",
      "155    1\n",
      "220    1\n",
      "159    1\n",
      "290    1\n",
      "238    1\n",
      "310    1\n",
      "91     1\n",
      "114    1\n",
      "188    1\n",
      "193    1\n",
      "195    1\n",
      "260    1\n",
      "199    1\n",
      "80     1\n",
      "81     1\n",
      "125    1\n",
      "Name: price, dtype: int64\n"
     ]
    }
   ],
   "source": [
    "#splitting the data to our train and test sets\n",
    "X_train, X_test, y_train, y_test = train_test_split(X, y, test_size=0.2)\n",
    "\n",
    "print(\"Initial amount of samples: #{}\".format(X.shape[0]))\n",
    "print(\"Number of training samples: #{}\".format(X_train.shape[0]))\n",
    "print(\"Number of test samples: #{}\".format(X_test.shape[0]))\n",
    "\n",
    "print(\"\\nTarget distribution in original dataset:\\n{}\".format(y.value_counts()))\n",
    "print(\"\\nTarget distribution in the training set:\\n{}\\n\".format(y_train.value_counts()))\n",
    "print(\"Target distribution in the test set:\\n{}\".format(y_test.value_counts()))"
   ]
  },
  {
   "cell_type": "code",
   "execution_count": 15,
   "id": "75f46243",
   "metadata": {},
   "outputs": [],
   "source": [
    "#maps the values into the standrad distribution\n",
    "scaler = StandardScaler()\n",
    "X_train_scaled = scaler.fit_transform(X_train)"
   ]
  },
  {
   "cell_type": "code",
   "execution_count": 16,
   "id": "9306cc84",
   "metadata": {},
   "outputs": [
    {
     "name": "stdout",
     "output_type": "stream",
     "text": [
      "Mean:  [-1.04100713e-16 -2.87938141e-17  1.09637984e-16]\n",
      "Standard Deviation:  [1. 1. 1.]\n"
     ]
    }
   ],
   "source": [
    "#checking the X_train\n",
    "print(\"Mean: \", X_train_scaled.mean(axis=0))\n",
    "print(\"Standard Deviation: \", X_train_scaled.std(axis=0))"
   ]
  },
  {
   "cell_type": "code",
   "execution_count": 17,
   "id": "e722f66e",
   "metadata": {},
   "outputs": [
    {
     "name": "stdout",
     "output_type": "stream",
     "text": [
      "Mean:  [ 0.09350008 -0.06816234  0.35141584]\n",
      "Standard Deviation:  [1.06054848 1.03094053 1.38231558]\n"
     ]
    }
   ],
   "source": [
    "#applying on the test set\n",
    "X_test_scaled = scaler.transform(X_test)\n",
    "print(\"Mean: \", X_test_scaled.mean(axis=0))\n",
    "print(\"Standard Deviation: \", X_test_scaled.std(axis=0))"
   ]
  },
  {
   "cell_type": "code",
   "execution_count": 19,
   "id": "823a3ff1",
   "metadata": {},
   "outputs": [
    {
     "name": "stderr",
     "output_type": "stream",
     "text": [
      "D:\\anaconda\\lib\\site-packages\\sklearn\\linear_model\\_logistic.py:763: ConvergenceWarning: lbfgs failed to converge (status=1):\n",
      "STOP: TOTAL NO. of ITERATIONS REACHED LIMIT.\n",
      "\n",
      "Increase the number of iterations (max_iter) or scale the data as shown in:\n",
      "    https://scikit-learn.org/stable/modules/preprocessing.html\n",
      "Please also refer to the documentation for alternative solver options:\n",
      "    https://scikit-learn.org/stable/modules/linear_model.html#logistic-regression\n",
      "  n_iter_i = _check_optimize_result(\n"
     ]
    }
   ],
   "source": [
    "#apply the train function fit\n",
    "clf_model = LogisticRegression().fit(X_train, y_train)\n",
    "y_pred=clf_model.predict(X_test)"
   ]
  },
  {
   "cell_type": "code",
   "execution_count": 31,
   "id": "e12a6fa2",
   "metadata": {},
   "outputs": [
    {
     "name": "stdout",
     "output_type": "stream",
     "text": [
      "correct %: 0.12871287128712872\n"
     ]
    }
   ],
   "source": [
    "#compare the predicted labels, to the actual labels provided by y_test\n",
    "resDF=pd.DataFrame({\"Actual\":y_test,\"Predicted\":y_pred})\n",
    "\n",
    "resDF[\"correct\"]=abs((resDF[\"Actual\"]^resDF[\"Predicted\"])-1)\n",
    "resDF[resDF[\"correct\"]==1]\n",
    "#resDF\n",
    "print(\"correct %:\",len(resDF[resDF[\"correct\"] == 1]) / len(resDF))"
   ]
  },
  {
   "cell_type": "code",
   "execution_count": 23,
   "id": "6d1735f9",
   "metadata": {},
   "outputs": [
    {
     "data": {
      "image/png": "[encoded data removed]",
      "text/plain": [
       "<Figure size 432x288 with 1 Axes>"
      ]
     },
     "metadata": {
      "needs_background": "light"
     },
     "output_type": "display_data"
    }
   ],
   "source": [
    "#visualize the data with a scatter plot\n",
    "plt.scatter(x=df_copy['price'],y=df_copy['ammount'],c='b',marker='s',label='ammount')\n",
    "\n",
    "plt.legend(numpoints=1,loc=4)\n",
    "plt.xlabel('ammount')\n",
    "plt.ylabel('price')\n",
    "plt.show()"
   ]
  },
  {
   "cell_type": "code",
   "execution_count": 24,
   "id": "ae5c0b2b",
   "metadata": {},
   "outputs": [],
   "source": [
    "# build linear regression model\n",
    "m=linear_model.LinearRegression().fit(df_copy.iloc[:,0:1],df_copy.iloc[:,3:])"
   ]
  },
  {
   "cell_type": "code",
   "execution_count": 25,
   "id": "56decd9d",
   "metadata": {},
   "outputs": [
    {
     "name": "stdout",
     "output_type": "stream",
     "text": [
      "b1: [[32.24100661]]\n",
      "b0: [115.71064734]\n"
     ]
    }
   ],
   "source": [
    "#Investigate the model\n",
    "print(\"b1:\",m.coef_)\n",
    "print(\"b0:\",m.intercept_)"
   ]
  },
  {
   "cell_type": "code",
   "execution_count": 26,
   "id": "35d64380",
   "metadata": {},
   "outputs": [
    {
     "name": "stdout",
     "output_type": "stream",
     "text": [
      "2150607.035553377\n"
     ]
    }
   ],
   "source": [
    "#Evaluation metrics for linear regression\n",
    "def sse(Y, Y_HAT):  \n",
    "    sse = sum([(y - y_hat)**2 for y,y_hat in zip(Y, Y_HAT)])\n",
    "    return sse\n",
    "\n",
    "SSE = sse(df_copy.price.tolist(),m.predict(df_copy.iloc[:,0:1]).flatten())\n",
    "\n",
    "print(SSE)"
   ]
  },
  {
   "cell_type": "code",
   "execution_count": 27,
   "id": "4fba0b3c",
   "metadata": {},
   "outputs": [
    {
     "data": {
      "text/plain": [
       "0.03961124743185207"
      ]
     },
     "execution_count": 27,
     "metadata": {},
     "output_type": "execute_result"
    }
   ],
   "source": [
    "#trying another method - R2\n",
    "from sklearn.metrics import r2_score\n",
    "\n",
    "r2_score(df_copy.price.tolist(),m.predict(df_copy.iloc[:,0:1]).flatten())"
   ]
  },
  {
   "cell_type": "code",
   "execution_count": 28,
   "id": "9943c5f7",
   "metadata": {},
   "outputs": [
    {
     "data": {
      "image/png": "[encoded data removed]",
      "text/plain": [
       "<Figure size 432x288 with 1 Axes>"
      ]
     },
     "metadata": {
      "needs_background": "light"
     },
     "output_type": "display_data"
    },
    {
     "name": "stdout",
     "output_type": "stream",
     "text": [
      "Slope: [[0.05106437]]\n",
      "Intercept: [8.79361922]\n",
      "R2: 0.01882882015553955\n"
     ]
    }
   ],
   "source": [
    "#checking the connection between price and amount\n",
    "lr_radio = linear_model.LinearRegression() # create a linear regression object\n",
    "\n",
    "# scikit-learn doesn't work as well with pandas, so we have to extract values \n",
    "x = df_copy['price'].values.reshape(df_copy['price'].shape[0],1)\n",
    "y = df_copy['ammount'].values.reshape(df_copy['ammount'].shape[0],1)\n",
    "\n",
    "lr_radio.fit(X=x, y=y)\n",
    "\n",
    "plt.scatter(x, y,  color='black')\n",
    "plt.plot(x, lr_radio.predict(x), color='pink', linewidth=3)\n",
    "\n",
    "plt.xlabel('price')\n",
    "plt.ylabel('ammount')\n",
    "plt.show()\n",
    "\n",
    "print(\"Slope:\",lr_radio.coef_)\n",
    "print(\"Intercept:\",lr_radio.intercept_)\n",
    "print(\"R2:\",lr_radio.score(x,y))"
   ]
  },
  {
   "cell_type": "code",
   "execution_count": null,
   "id": "390a5a73",
   "metadata": {},
   "outputs": [],
   "source": []
  }
 ],
 "metadata": {
  "kernelspec": {
   "display_name": "Python 3",
   "language": "python",
   "name": "python3"
  },
  "language_info": {
   "codemirror_mode": {
    "name": "ipython",
    "version": 3
   },
   "file_extension": ".py",
   "mimetype": "text/x-python",
   "name": "python",
   "nbconvert_exporter": "python",
   "pygments_lexer": "ipython3",
   "version": "3.8.8"
  }
 },
 "nbformat": 4,
 "nbformat_minor": 5
}
